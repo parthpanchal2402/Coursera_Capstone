{
  "nbformat": 4,
  "nbformat_minor": 0,
  "metadata": {
    "colab": {
      "name": "SC_toronto.ipynb",
      "provenance": [],
      "collapsed_sections": [],
      "authorship_tag": "ABX9TyNZ6xE/zy0Wt48ynlpt6p7e",
      "include_colab_link": true
    },
    "kernelspec": {
      "name": "python3",
      "display_name": "Python 3"
    }
  },
  "cells": [
    {
      "cell_type": "markdown",
      "metadata": {
        "id": "view-in-github",
        "colab_type": "text"
      },
      "source": [
        "<a href=\"https://colab.research.google.com/github/parthpanchal2402/Coursera_Capstone/blob/master/SC_toronto.ipynb\" target=\"_parent\"><img src=\"https://colab.research.google.com/assets/colab-badge.svg\" alt=\"Open In Colab\"/></a>"
      ]
    },
    {
      "cell_type": "markdown",
      "metadata": {
        "id": "pvqsETO5vpqH",
        "colab_type": "text"
      },
      "source": [
        "###Segmenting and Clustering Neighborhoods in Toronto###\n",
        "\n",
        "\n",
        "This notebook is for the Week 3's assignment Segmenting and Clustering Neighborhoods in Toronto."
      ]
    },
    {
      "cell_type": "markdown",
      "metadata": {
        "id": "vdLyqdNDnrDf",
        "colab_type": "text"
      },
      "source": [
        "###Question 1###"
      ]
    },
    {
      "cell_type": "code",
      "metadata": {
        "id": "dprTeR5Kv1Rp",
        "colab_type": "code",
        "colab": {}
      },
      "source": [
        "import requests\n",
        "import folium\n",
        "\n",
        "import numpy as np\n",
        "import pandas as pd\n",
        "\n",
        "import matplotlib.cm as cm\n",
        "import matplotlib.colors as colors\n",
        "\n",
        "from pandas.io.json import json_normalize\n",
        "from geopy.geocoders import Nominatim\n",
        "from sklearn.cluster import KMeans\n",
        "from bs4 import BeautifulSoup"
      ],
      "execution_count": 0,
      "outputs": []
    },
    {
      "cell_type": "code",
      "metadata": {
        "id": "4av3OHlUv3_y",
        "colab_type": "code",
        "colab": {
          "base_uri": "https://localhost:8080/",
          "height": 34
        },
        "outputId": "41ff8430-c176-4cea-da59-08a9c41daf15"
      },
      "source": [
        "#Reading data\n",
        "df = pd.read_html('https://en.wikipedia.org/wiki/List_of_postal_codes_of_Canada:_M', na_values = 'Not assigned', flavor = 'html5lib')\n",
        "print(type(df[0]))\n",
        "df = df[0]"
      ],
      "execution_count": 2,
      "outputs": [
        {
          "output_type": "stream",
          "text": [
            "<class 'pandas.core.frame.DataFrame'>\n"
          ],
          "name": "stdout"
        }
      ]
    },
    {
      "cell_type": "code",
      "metadata": {
        "id": "YJH2CdIGv_Kb",
        "colab_type": "code",
        "colab": {}
      },
      "source": [
        "#Checking columns\n",
        "df.columns\n",
        "df.rename({0: 'Postcode', 1: 'Borough', 2: 'Neighbourhood'}, axis = 'columns', inplace = True)"
      ],
      "execution_count": 0,
      "outputs": []
    },
    {
      "cell_type": "markdown",
      "metadata": {
        "id": "e9K9a_SJwPVy",
        "colab_type": "text"
      },
      "source": [
        "##Pre-processing data##"
      ]
    },
    {
      "cell_type": "code",
      "metadata": {
        "id": "mpIE_LccwUGm",
        "colab_type": "code",
        "colab": {
          "base_uri": "https://localhost:8080/",
          "height": 330
        },
        "outputId": "efc4c3ed-8013-4535-be17-35136dd89678"
      },
      "source": [
        "#Dealing with NaN's\n",
        "print(df.isnull().sum())\n",
        "df.drop(df.index[0], inplace = True)\n",
        "df.dropna(axis = 0, inplace = True)\n",
        "print(df.isnull().sum())\n",
        "df.head()"
      ],
      "execution_count": 4,
      "outputs": [
        {
          "output_type": "stream",
          "text": [
            "Postal code      0\n",
            "Borough         77\n",
            "Neighborhood    77\n",
            "dtype: int64\n",
            "Postal code     0\n",
            "Borough         0\n",
            "Neighborhood    0\n",
            "dtype: int64\n"
          ],
          "name": "stdout"
        },
        {
          "output_type": "execute_result",
          "data": {
            "text/html": [
              "<div>\n",
              "<style scoped>\n",
              "    .dataframe tbody tr th:only-of-type {\n",
              "        vertical-align: middle;\n",
              "    }\n",
              "\n",
              "    .dataframe tbody tr th {\n",
              "        vertical-align: top;\n",
              "    }\n",
              "\n",
              "    .dataframe thead th {\n",
              "        text-align: right;\n",
              "    }\n",
              "</style>\n",
              "<table border=\"1\" class=\"dataframe\">\n",
              "  <thead>\n",
              "    <tr style=\"text-align: right;\">\n",
              "      <th></th>\n",
              "      <th>Postal code</th>\n",
              "      <th>Borough</th>\n",
              "      <th>Neighborhood</th>\n",
              "    </tr>\n",
              "  </thead>\n",
              "  <tbody>\n",
              "    <tr>\n",
              "      <th>2</th>\n",
              "      <td>M3A</td>\n",
              "      <td>North York</td>\n",
              "      <td>Parkwoods</td>\n",
              "    </tr>\n",
              "    <tr>\n",
              "      <th>3</th>\n",
              "      <td>M4A</td>\n",
              "      <td>North York</td>\n",
              "      <td>Victoria Village</td>\n",
              "    </tr>\n",
              "    <tr>\n",
              "      <th>4</th>\n",
              "      <td>M5A</td>\n",
              "      <td>Downtown Toronto</td>\n",
              "      <td>Regent Park / Harbourfront</td>\n",
              "    </tr>\n",
              "    <tr>\n",
              "      <th>5</th>\n",
              "      <td>M6A</td>\n",
              "      <td>North York</td>\n",
              "      <td>Lawrence Manor / Lawrence Heights</td>\n",
              "    </tr>\n",
              "    <tr>\n",
              "      <th>6</th>\n",
              "      <td>M7A</td>\n",
              "      <td>Downtown Toronto</td>\n",
              "      <td>Queen's Park / Ontario Provincial Government</td>\n",
              "    </tr>\n",
              "  </tbody>\n",
              "</table>\n",
              "</div>"
            ],
            "text/plain": [
              "  Postal code           Borough                                  Neighborhood\n",
              "2         M3A        North York                                     Parkwoods\n",
              "3         M4A        North York                              Victoria Village\n",
              "4         M5A  Downtown Toronto                    Regent Park / Harbourfront\n",
              "5         M6A        North York             Lawrence Manor / Lawrence Heights\n",
              "6         M7A  Downtown Toronto  Queen's Park / Ontario Provincial Government"
            ]
          },
          "metadata": {
            "tags": []
          },
          "execution_count": 4
        }
      ]
    },
    {
      "cell_type": "code",
      "metadata": {
        "id": "aGjs674xwagI",
        "colab_type": "code",
        "colab": {
          "base_uri": "https://localhost:8080/",
          "height": 50
        },
        "outputId": "7bcdd53e-36a0-4249-9b87-cd9ed681ba23"
      },
      "source": [
        "#Checking number of boroughs and neighbourhoods\n",
        "print('The dataframe has {} boroughs and {} neighbourhoods.'.format(\n",
        "\n",
        "len(df['Borough'].unique()),\n",
        "\n",
        "len(df['Neighborhood'].unique())))\n",
        "#Printing shape\n",
        "\n",
        "print(df.shape)\n",
        "df.to_csv('Toronto_df.csv')"
      ],
      "execution_count": 5,
      "outputs": [
        {
          "output_type": "stream",
          "text": [
            "The dataframe has 10 boroughs and 98 neighbourhoods.\n",
            "(103, 3)\n"
          ],
          "name": "stdout"
        }
      ]
    },
    {
      "cell_type": "markdown",
      "metadata": {
        "id": "vBu1Ii9wnmcU",
        "colab_type": "text"
      },
      "source": [
        "### Question 2###"
      ]
    },
    {
      "cell_type": "code",
      "metadata": {
        "id": "UHgNV2EjnwF5",
        "colab_type": "code",
        "colab": {}
      },
      "source": [
        "df = pd.read_csv('Toronto_df.csv')\n"
      ],
      "execution_count": 0,
      "outputs": []
    },
    {
      "cell_type": "code",
      "metadata": {
        "id": "CXMLxiPEnzGK",
        "colab_type": "code",
        "colab": {
          "base_uri": "https://localhost:8080/",
          "height": 218
        },
        "outputId": "7fa8d1b0-e545-4481-a2b0-7aa70aa2a09c"
      },
      "source": [
        "#Getting postal codes\n",
        "df['Postal code'].unique()"
      ],
      "execution_count": 7,
      "outputs": [
        {
          "output_type": "execute_result",
          "data": {
            "text/plain": [
              "array(['M3A', 'M4A', 'M5A', 'M6A', 'M7A', 'M9A', 'M1B', 'M3B', 'M4B',\n",
              "       'M5B', 'M6B', 'M9B', 'M1C', 'M3C', 'M4C', 'M5C', 'M6C', 'M9C',\n",
              "       'M1E', 'M4E', 'M5E', 'M6E', 'M1G', 'M4G', 'M5G', 'M6G', 'M1H',\n",
              "       'M2H', 'M3H', 'M4H', 'M5H', 'M6H', 'M1J', 'M2J', 'M3J', 'M4J',\n",
              "       'M5J', 'M6J', 'M1K', 'M2K', 'M3K', 'M4K', 'M5K', 'M6K', 'M1L',\n",
              "       'M2L', 'M3L', 'M4L', 'M5L', 'M6L', 'M9L', 'M1M', 'M2M', 'M3M',\n",
              "       'M4M', 'M5M', 'M6M', 'M9M', 'M1N', 'M2N', 'M3N', 'M4N', 'M5N',\n",
              "       'M6N', 'M9N', 'M1P', 'M2P', 'M4P', 'M5P', 'M6P', 'M9P', 'M1R',\n",
              "       'M2R', 'M4R', 'M5R', 'M6R', 'M7R', 'M9R', 'M1S', 'M4S', 'M5S',\n",
              "       'M6S', 'M1T', 'M4T', 'M5T', 'M1V', 'M4V', 'M5V', 'M8V', 'M9V',\n",
              "       'M1W', 'M4W', 'M5W', 'M8W', 'M9W', 'M1X', 'M4X', 'M5X', 'M8X',\n",
              "       'M4Y', 'M7Y', 'M8Y', 'M8Z'], dtype=object)"
            ]
          },
          "metadata": {
            "tags": []
          },
          "execution_count": 7
        }
      ]
    },
    {
      "cell_type": "code",
      "metadata": {
        "id": "2N6Cw-cbn0pG",
        "colab_type": "code",
        "colab": {
          "base_uri": "https://localhost:8080/",
          "height": 195
        },
        "outputId": "87bf60d6-9817-4241-a583-a0ca26fb8637"
      },
      "source": [
        "#Sorting the dataframe and droping its index\n",
        "\n",
        "df = df.sort_values(by = ['Postal code'], ascending = True)\n",
        "df.reset_index(inplace= True, drop = True)\n",
        "df.head()"
      ],
      "execution_count": 8,
      "outputs": [
        {
          "output_type": "execute_result",
          "data": {
            "text/html": [
              "<div>\n",
              "<style scoped>\n",
              "    .dataframe tbody tr th:only-of-type {\n",
              "        vertical-align: middle;\n",
              "    }\n",
              "\n",
              "    .dataframe tbody tr th {\n",
              "        vertical-align: top;\n",
              "    }\n",
              "\n",
              "    .dataframe thead th {\n",
              "        text-align: right;\n",
              "    }\n",
              "</style>\n",
              "<table border=\"1\" class=\"dataframe\">\n",
              "  <thead>\n",
              "    <tr style=\"text-align: right;\">\n",
              "      <th></th>\n",
              "      <th>Unnamed: 0</th>\n",
              "      <th>Postal code</th>\n",
              "      <th>Borough</th>\n",
              "      <th>Neighborhood</th>\n",
              "    </tr>\n",
              "  </thead>\n",
              "  <tbody>\n",
              "    <tr>\n",
              "      <th>0</th>\n",
              "      <td>9</td>\n",
              "      <td>M1B</td>\n",
              "      <td>Scarborough</td>\n",
              "      <td>Malvern / Rouge</td>\n",
              "    </tr>\n",
              "    <tr>\n",
              "      <th>1</th>\n",
              "      <td>18</td>\n",
              "      <td>M1C</td>\n",
              "      <td>Scarborough</td>\n",
              "      <td>Rouge Hill / Port Union / Highland Creek</td>\n",
              "    </tr>\n",
              "    <tr>\n",
              "      <th>2</th>\n",
              "      <td>27</td>\n",
              "      <td>M1E</td>\n",
              "      <td>Scarborough</td>\n",
              "      <td>Guildwood / Morningside / West Hill</td>\n",
              "    </tr>\n",
              "    <tr>\n",
              "      <th>3</th>\n",
              "      <td>36</td>\n",
              "      <td>M1G</td>\n",
              "      <td>Scarborough</td>\n",
              "      <td>Woburn</td>\n",
              "    </tr>\n",
              "    <tr>\n",
              "      <th>4</th>\n",
              "      <td>45</td>\n",
              "      <td>M1H</td>\n",
              "      <td>Scarborough</td>\n",
              "      <td>Cedarbrae</td>\n",
              "    </tr>\n",
              "  </tbody>\n",
              "</table>\n",
              "</div>"
            ],
            "text/plain": [
              "   Unnamed: 0  ...                              Neighborhood\n",
              "0           9  ...                           Malvern / Rouge\n",
              "1          18  ...  Rouge Hill / Port Union / Highland Creek\n",
              "2          27  ...       Guildwood / Morningside / West Hill\n",
              "3          36  ...                                    Woburn\n",
              "4          45  ...                                 Cedarbrae\n",
              "\n",
              "[5 rows x 4 columns]"
            ]
          },
          "metadata": {
            "tags": []
          },
          "execution_count": 8
        }
      ]
    },
    {
      "cell_type": "code",
      "metadata": {
        "id": "CmdLsQIQoSuP",
        "colab_type": "code",
        "colab": {
          "base_uri": "https://localhost:8080/",
          "height": 34
        },
        "outputId": "43ae7810-5f3d-418b-9103-b99922c06c6e"
      },
      "source": [
        "address = 'Toronto, Canada'\n",
        "\n",
        "geolocator = Nominatim(user_agent=\"ca_explorer\")\n",
        "location = geolocator.geocode(address)\n",
        "latitude = location.latitude\n",
        "longitude = location.longitude\n",
        "print('The geograpical coordinate of Toronto are {}, {}.'.format(latitude, longitude))"
      ],
      "execution_count": 9,
      "outputs": [
        {
          "output_type": "stream",
          "text": [
            "The geograpical coordinate of Toronto are 43.6534817, -79.3839347.\n"
          ],
          "name": "stdout"
        }
      ]
    },
    {
      "cell_type": "code",
      "metadata": {
        "id": "bMgkyNfzoYLK",
        "colab_type": "code",
        "colab": {
          "base_uri": "https://localhost:8080/",
          "height": 402
        },
        "outputId": "c093ce13-5b3b-4895-8b23-f582a4eab7dc"
      },
      "source": [
        "tables = pd.read_html(\"https://en.wikipedia.org/wiki/List_of_postal_codes_of_Canada:_M\")\n",
        "tables[0].columns = tables[0].iloc[0]\n",
        "df_table = tables[0]\n",
        "\n",
        "# Dataframe will consist of 3 columns: PostalCode, Borough, and Neighborhood\n",
        "df_table.columns = ['PostalCode', 'Borough', 'Neighborhood']\n",
        "df_table = df_table.iloc[1:]\n",
        "\n",
        "# Only process the cells that have an assigned borough. Ignore cells with a borough that is Not assigned.\n",
        "df_table = df_table[df_table.Borough != 'Not assigned']\n",
        "\n",
        "# If a cell has a borough but a Not assigned neighborhood, set neighborhood name to its borough.\n",
        "df_table.Neighborhood.replace('Not assigned',df_table.Borough,inplace=True)\n",
        "\n",
        "# Combine neighborhoods with same postal code in a single row and separate with commas (as_index=False to retain columns)\n",
        "df_table = df_table.groupby(['PostalCode','Borough'], as_index=False).agg(lambda x: ','.join(x))\n",
        "\n",
        "df_geospace = pd.read_csv('http://cocl.us/Geospatial_data')\n",
        "df_geospace.rename(columns={'Postal Code': 'PostalCode'}, inplace=True)\n",
        "df_final = pd.merge(df_table, df_geospace, on = 'PostalCode')\n",
        "df_final"
      ],
      "execution_count": 15,
      "outputs": [
        {
          "output_type": "execute_result",
          "data": {
            "text/html": [
              "<div>\n",
              "<style scoped>\n",
              "    .dataframe tbody tr th:only-of-type {\n",
              "        vertical-align: middle;\n",
              "    }\n",
              "\n",
              "    .dataframe tbody tr th {\n",
              "        vertical-align: top;\n",
              "    }\n",
              "\n",
              "    .dataframe thead th {\n",
              "        text-align: right;\n",
              "    }\n",
              "</style>\n",
              "<table border=\"1\" class=\"dataframe\">\n",
              "  <thead>\n",
              "    <tr style=\"text-align: right;\">\n",
              "      <th></th>\n",
              "      <th>PostalCode</th>\n",
              "      <th>Borough</th>\n",
              "      <th>Neighborhood</th>\n",
              "      <th>Latitude</th>\n",
              "      <th>Longitude</th>\n",
              "    </tr>\n",
              "  </thead>\n",
              "  <tbody>\n",
              "    <tr>\n",
              "      <th>0</th>\n",
              "      <td>M1B</td>\n",
              "      <td>Scarborough</td>\n",
              "      <td>Malvern / Rouge</td>\n",
              "      <td>43.806686</td>\n",
              "      <td>-79.194353</td>\n",
              "    </tr>\n",
              "    <tr>\n",
              "      <th>1</th>\n",
              "      <td>M1C</td>\n",
              "      <td>Scarborough</td>\n",
              "      <td>Rouge Hill / Port Union / Highland Creek</td>\n",
              "      <td>43.784535</td>\n",
              "      <td>-79.160497</td>\n",
              "    </tr>\n",
              "    <tr>\n",
              "      <th>2</th>\n",
              "      <td>M1E</td>\n",
              "      <td>Scarborough</td>\n",
              "      <td>Guildwood / Morningside / West Hill</td>\n",
              "      <td>43.763573</td>\n",
              "      <td>-79.188711</td>\n",
              "    </tr>\n",
              "    <tr>\n",
              "      <th>3</th>\n",
              "      <td>M1G</td>\n",
              "      <td>Scarborough</td>\n",
              "      <td>Woburn</td>\n",
              "      <td>43.770992</td>\n",
              "      <td>-79.216917</td>\n",
              "    </tr>\n",
              "    <tr>\n",
              "      <th>4</th>\n",
              "      <td>M1H</td>\n",
              "      <td>Scarborough</td>\n",
              "      <td>Cedarbrae</td>\n",
              "      <td>43.773136</td>\n",
              "      <td>-79.239476</td>\n",
              "    </tr>\n",
              "    <tr>\n",
              "      <th>...</th>\n",
              "      <td>...</td>\n",
              "      <td>...</td>\n",
              "      <td>...</td>\n",
              "      <td>...</td>\n",
              "      <td>...</td>\n",
              "    </tr>\n",
              "    <tr>\n",
              "      <th>98</th>\n",
              "      <td>M9N</td>\n",
              "      <td>York</td>\n",
              "      <td>Weston</td>\n",
              "      <td>43.706876</td>\n",
              "      <td>-79.518188</td>\n",
              "    </tr>\n",
              "    <tr>\n",
              "      <th>99</th>\n",
              "      <td>M9P</td>\n",
              "      <td>Etobicoke</td>\n",
              "      <td>Westmount</td>\n",
              "      <td>43.696319</td>\n",
              "      <td>-79.532242</td>\n",
              "    </tr>\n",
              "    <tr>\n",
              "      <th>100</th>\n",
              "      <td>M9R</td>\n",
              "      <td>Etobicoke</td>\n",
              "      <td>Kingsview Village / St. Phillips / Martin Grov...</td>\n",
              "      <td>43.688905</td>\n",
              "      <td>-79.554724</td>\n",
              "    </tr>\n",
              "    <tr>\n",
              "      <th>101</th>\n",
              "      <td>M9V</td>\n",
              "      <td>Etobicoke</td>\n",
              "      <td>South Steeles / Silverstone / Humbergate / Jam...</td>\n",
              "      <td>43.739416</td>\n",
              "      <td>-79.588437</td>\n",
              "    </tr>\n",
              "    <tr>\n",
              "      <th>102</th>\n",
              "      <td>M9W</td>\n",
              "      <td>Etobicoke</td>\n",
              "      <td>Northwest</td>\n",
              "      <td>43.706748</td>\n",
              "      <td>-79.594054</td>\n",
              "    </tr>\n",
              "  </tbody>\n",
              "</table>\n",
              "<p>103 rows × 5 columns</p>\n",
              "</div>"
            ],
            "text/plain": [
              "    PostalCode      Borough  ...   Latitude  Longitude\n",
              "0          M1B  Scarborough  ...  43.806686 -79.194353\n",
              "1          M1C  Scarborough  ...  43.784535 -79.160497\n",
              "2          M1E  Scarborough  ...  43.763573 -79.188711\n",
              "3          M1G  Scarborough  ...  43.770992 -79.216917\n",
              "4          M1H  Scarborough  ...  43.773136 -79.239476\n",
              "..         ...          ...  ...        ...        ...\n",
              "98         M9N         York  ...  43.706876 -79.518188\n",
              "99         M9P    Etobicoke  ...  43.696319 -79.532242\n",
              "100        M9R    Etobicoke  ...  43.688905 -79.554724\n",
              "101        M9V    Etobicoke  ...  43.739416 -79.588437\n",
              "102        M9W    Etobicoke  ...  43.706748 -79.594054\n",
              "\n",
              "[103 rows x 5 columns]"
            ]
          },
          "metadata": {
            "tags": []
          },
          "execution_count": 15
        }
      ]
    },
    {
      "cell_type": "markdown",
      "metadata": {
        "id": "S8BBIUZGrDFs",
        "colab_type": "text"
      },
      "source": [
        "###Question 3###"
      ]
    },
    {
      "cell_type": "code",
      "metadata": {
        "id": "0wYRsaAyrFEl",
        "colab_type": "code",
        "colab": {}
      },
      "source": [
        ""
      ],
      "execution_count": 0,
      "outputs": []
    }
  ]
}